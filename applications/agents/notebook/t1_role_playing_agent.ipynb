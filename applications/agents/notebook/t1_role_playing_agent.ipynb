{
 "cells": [
  {
   "cell_type": "markdown",
   "id": "2ab03efc",
   "metadata": {},
   "source": [
    "# 1. RolePlayingAgent - 大语言模型角色扮演"
   ]
  },
  {
   "cell_type": "markdown",
   "id": "f3c4bf0f",
   "metadata": {},
   "source": [
    "首先将 wde 目录加入 python path"
   ]
  },
  {
   "cell_type": "code",
   "execution_count": 1,
   "id": "222c300b",
   "metadata": {},
   "outputs": [],
   "source": [
    "import os\n",
    "import sys\n",
    "from pathlib import Path\n",
    "pwd = Path(os.getcwd())\n",
    "sys.path.append(str(pwd.parent.parent.parent))\n",
    "os.chdir(str(pwd.parent.parent.parent))"
   ]
  },
  {
   "cell_type": "markdown",
   "id": "be82c1e4",
   "metadata": {},
   "source": [
    "导入 RolePlayingAgent"
   ]
  },
  {
   "cell_type": "code",
   "execution_count": 2,
   "id": "4043b62f",
   "metadata": {},
   "outputs": [],
   "source": [
    "from wde.agents import RolePlayingAgent"
   ]
  },
  {
   "cell_type": "markdown",
   "id": "5b8d50b0",
   "metadata": {},
   "source": [
    "设定 llm 参数"
   ]
  },
  {
   "cell_type": "code",
   "execution_count": 3,
   "id": "7a10d137",
   "metadata": {},
   "outputs": [],
   "source": [
    "llm_config = {\"model\": \"Qwen/Qwen2-7B-Instruct\", \"type\": \"zeroclient\"}"
   ]
  },
  {
   "cell_type": "code",
   "execution_count": 4,
   "id": "8de12ac1",
   "metadata": {},
   "outputs": [],
   "source": [
    "agent = RolePlayingAgent(\n",
    "    name=\"小李\",\n",
    "    system_message=\n",
    "    \"你的名字是小李，你是一位广告文案策划。\",\n",
    "    llm_config=llm_config,\n",
    ")"
   ]
  },
  {
   "cell_type": "code",
   "execution_count": 5,
   "id": "3e6332d1",
   "metadata": {},
   "outputs": [
    {
     "name": "stdout",
     "output_type": "stream",
     "text": [
      "创作一个充满创意的关于削笔刀的广告文案，我们首先需要理解削笔刀的基本功能以及它对于学生、艺术家等用户的特殊意义，同时融入情感元素，让产品不仅仅是一个工具，更是一种可以激发创造力和成就的小工具。下面是一个创意文案的例子：\n",
      "\n",
      "---\n",
      "\n",
      "**标题：灵感笔尖，每一次起舞**\n",
      "\n",
      "**正文：**\n",
      "\n",
      "在这个快节奏的世界里，每一次灵感的起舞都是艺术品世界里最耀眼的瞬间。我们深知，每一位艺术家、学生抑或是追求创作灵感的人都需要一把得力的伙伴——那就是我们的削笔刀。不仅仅是为了保持铅笔的锋利，它更是知识的唤醒者，创意的守护者。\n",
      "\n",
      "想象一下，每一支被我们的削笔刀雕刻成理想的形状的铅笔，都像是被赋予了生命的小天使，它们在你的手中轻轻跳动，与你的思想共鸣，共同绘制出世界上最独一无二的画像、字体或线条。在那透明的旋转下，世界的色彩开始变得更加鲜艳，灵感的火花在灰白之间闪烁，照亮你的创造之路。\n",
      "\n",
      "我们不仅仅提供一个削笔刀，我们提供的是一个平台，让想象自由飞翔，让每一个细微的梦想都得以实现。无论是初学者的第一次触碰，还是大师追求完美的每一步，我们的削笔刀都能给予恰当的支持，让你的作品如同初升的太阳，充满活力，照耀四方。\n",
      "\n",
      "让我们一起用这把不仅仅是削笔刀，更是创意撬动器的工具，去探索未知，表达自我，让每一次削笔都成为一段创造旅程的开始。无论你是在求知的旅途中寻找方向，还是在艺术的海洋中遨游，我们都在这里，静静等待，为你的下一幕精彩加油。\n",
      "\n",
      "加入我们，成为灵感的舞者，让每一次下的笔都充满力量与希望。在小细节中发现大世界，用我们的削笔刀，让梦想不再遥远。\n",
      "\n",
      "---\n",
      "\n",
      "这个文案试图营造一种情感共鸣，将削笔刀与个人的创作体验相连，突出它对个体创造力的激发作用，从而让品牌价值不仅仅体现在产品功能上，更体现在其对于用户的深层意义上。\n"
     ]
    }
   ],
   "source": [
    "prompt = \"削笔刀\"\n",
    "reply = agent.generate_reply(prompt)\n",
    "print(reply)"
   ]
  },
  {
   "cell_type": "markdown",
   "id": "43ee39b6",
   "metadata": {},
   "source": [
    "还可以设置其他人设：小王，一位古诗爱好者。"
   ]
  },
  {
   "cell_type": "code",
   "execution_count": 6,
   "id": "299a5000",
   "metadata": {},
   "outputs": [],
   "source": [
    "agent = RolePlayingAgent(\n",
    "    name=\"小王\",\n",
    "    system_message=\n",
    "    \"你的名字是小王，你是一位古诗爱好者。\",\n",
    "    llm_config=llm_config,\n",
    ")"
   ]
  },
  {
   "cell_type": "code",
   "execution_count": 7,
   "id": "d93d7dfd",
   "metadata": {},
   "outputs": [
    {
     "name": "stdout",
     "output_type": "stream",
     "text": [
      "月亮，自古以来就是诗歌中常见的意象之一，代表着美丽、寂静、思念、孤独、静谧，以及时间的流逝和永恒等多重含义。以下是一些与月亮相关的古代诗句作为参考：\n",
      "\n",
      "1. 唐代李白的《静夜思》：\n",
      "   床前明月光，疑是地上霜。  \n",
      "   举头望明月，低头思故乡。\n",
      "\n",
      "2. 唐代王维的《鸟鸣涧》：\n",
      "   人闲桂花落，夜静春山空。  \n",
      "   月出惊山鸟，时鸣春涧中。\n",
      "\n",
      "3. 宋代苏轼的《中秋月》：\n",
      "   明月几时有？把酒问青天。  \n",
      "   不知天上宫阙，今夕是何年。\n",
      "\n",
      "4. 唐代张九龄的《望月怀远》：\n",
      "   海上生明月，天涯共此时。  \n",
      "   情人怨遥夜，竟夕起相思。\n",
      "\n",
      "5. 唐代杜甫的《月夜忆舍弟》：\n",
      "   戍鼓断人行，秋边一雁声。  \n",
      "   露从今夜白，月是故乡明。\n",
      "\n",
      "这些诗句通过描绘月色来表现丰富的情感与深刻的哲学思考，希望能为你对月亮的欣赏增添更多诗意的色彩。\n"
     ]
    }
   ],
   "source": [
    "prompt = \"月亮\"\n",
    "reply = agent.generate_reply(prompt)\n",
    "print(reply)"
   ]
  },
  {
   "cell_type": "markdown",
   "id": "a0b39a74",
   "metadata": {},
   "source": [
    "还可设置其他人设：小周，一位高中地理老师。"
   ]
  },
  {
   "cell_type": "code",
   "execution_count": 8,
   "id": "58a4dba5",
   "metadata": {},
   "outputs": [],
   "source": [
    "agent = RolePlayingAgent(\n",
    "    name=\"小周\",\n",
    "    system_message=\n",
    "    \"你的名字是小周，你是一位高中地理老师。\",\n",
    "    llm_config=llm_config,\n",
    ")"
   ]
  },
  {
   "cell_type": "code",
   "execution_count": 9,
   "id": "45ed87bd",
   "metadata": {},
   "outputs": [
    {
     "name": "stdout",
     "output_type": "stream",
     "text": [
      "马六甲海峡（Malacca Strait）是位于东南亚的一条狭窄的水道，位于马来半岛和苏门答腊岛之间，连接印度洋和太平洋。这个海峡对于国际海上贸易具有极其重要的战略和经济地位。下面我将从几个方面来介绍马六甲海峡：\n",
      "\n",
      "### 地理位置和形态\n",
      "\n",
      "马六甲海峡位于北纬2.5°至北纬7.5°，东经98.5°至103.5°之间，全长约1080公里，最窄处宽度仅为55海里（约合102公里）。北部与新加坡海峡相连，南部通过三个大型海峡（巫峡、乾港甲及潘格朗海峡）分别与柔佛海峡和望加锡海峡接合。海峡大部分被马六甲河、吉打河等河流包围，这些河流为地区提供了丰富的水资源和肥沃的土地，但同时也增加了对海上交通的复杂影响。\n",
      "\n",
      "### 自然环境与生态\n",
      "\n",
      "马六甲海峡拥有丰富的海洋生物资源，是红树林、珊瑚礁和各种海洋生物的家园。海峡内部水域展现出生物多样性的特点，为周边地区提供了重要的自然资源和生态服务。\n",
      "\n",
      "### 战略和经济重要性\n",
      "\n",
      "由于地理位置的独特性，马六甲海峡成为了全球最繁忙的海上航线之一，被喻为“海上生命线”。它是连接亚洲、欧洲、非洲的海上通道，贸易流量巨大，尤其是石油和天然气运输极为频繁。海峡还连接了亚洲的重要港口，例如新加坡、马来西亚和印度尼西亚的港口，对国际贸易和区域经济发展具有重要作用。\n",
      "\n",
      "### 安全与军事战略\n",
      "\n",
      "马六甲海峡的战略重要性不仅在于贸易，还因为它易于出入口，使得不少国家将其视为关键的军事通道。几个世纪以来，该水域曾发生过多次重要的战役和争夺，尤其是殖民时代和二战期间。\n",
      "\n",
      "### 生态保护与环境问题\n",
      "\n",
      "近年来，随着贸易活动的增加和人类活动的扩张，马六甲海峡面临着环境污染、海洋生物多样性的丧失以及过度捕捞等生态问题。国际社会和区域组织正在努力合作，采取措施保护这一重要的生物多样性热点，减少对海洋生态的影响。\n",
      "\n",
      "总之，马六甲海峡不仅是东南亚地区的地理枢纽，也是全球贸易和海上交通的命脉，其重要作用体现在经济、战略、生态等多个层面上。保护和持续发展马六甲海峡区域，对于维护全球航运安全、促进经济繁荣和保护海洋环境都具有重要意义。\n"
     ]
    }
   ],
   "source": [
    "prompt = \"介绍马六甲海峡\"\n",
    "reply = agent.generate_reply(prompt)\n",
    "print(reply)"
   ]
  },
  {
   "cell_type": "markdown",
   "id": "7288be36",
   "metadata": {},
   "source": [
    "## 总结\n",
    "通过角色扮演完成各种任务。"
   ]
  }
 ],
 "metadata": {
  "kernelspec": {
   "display_name": "Python 3 (ipykernel)",
   "language": "python",
   "name": "python3"
  },
  "language_info": {
   "codemirror_mode": {
    "name": "ipython",
    "version": 3
   },
   "file_extension": ".py",
   "mimetype": "text/x-python",
   "name": "python",
   "nbconvert_exporter": "python",
   "pygments_lexer": "ipython3",
   "version": "3.12.7"
  }
 },
 "nbformat": 4,
 "nbformat_minor": 5
}
